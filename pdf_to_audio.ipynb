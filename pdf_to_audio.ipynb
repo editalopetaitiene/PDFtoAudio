{
 "cells": [
  {
   "cell_type": "code",
   "execution_count": null,
   "metadata": {},
   "outputs": [
    {
     "name": "stdout",
     "output_type": "stream",
     "text": [
      "\n",
      "Reading page 1:\n",
      "\n",
      "Skaičiuoklė papildyta, atsižvelgiant į naują Švietimo, mokslo ir sporto ministro 2019 m. kovo 1 d. įsakymo \n",
      "Nr. V -186 „Dėl  mokytojų, dirbančių pagal bendrojo ugdymo, profesinio mokymo ir neformaliojo švietimo \n",
      "programas (išskyrus ikimokyklinio ir priešmokyklinio ugdymo programas), darbo krūvio sandaros \n",
      "nustatymo tvarkos aprašo patvirtinimo“ priedo redakciją.  \n",
      " \n",
      "1. Šiame priede nurodytas valandų, skiriamų ugdomajai veiklai planuoti, pasiruošti pamokoms, \n",
      "mokinių mokymosi pasiekimams vertinti, skaičius  (procentais nuo kontaktinių valandų) 2023 –2024  \n",
      "mokslo metais didinamas 20  procentų  mokytojams, dirbantiems pagal  2022 –2023 mokslo metais arba \n",
      "2023 –2024 mokslo metais pradėtas įgyvendinti  pradinio, pagrindinio ir vidurinio ugdymo programas , \n",
      "patvirtintas Lietuvos Respublikos švietimo, mokslo ir sporto ministro 2022 m. rugpjūčio 24 d. įsakymu \n",
      "Nr. V -1269 „Dėl Priešmokyklinio,  pradinio, pagrindinio ir vidurinio ugdymo bendrųjų programų \n",
      "patvirtinimo“.   \n",
      "2. Šiame priede nurodytas valandų, skiriamų ugdomajai veiklai planuoti, pasiruošti pamokoms, \n",
      "mokinių mokymosi pasiekimams vertinti, skaičius  (procentais nuo kontaktinių valandų) 2024 –2025  \n",
      "mokslo metais didinamas 20  procentų  mokytojams, dirbantiems pagal 2024 –2025 mokslo metais \n",
      "pradėtas įgyvendinti pradinio, pagrindinio ir vidurinio ugdymo programas , patvirtintas Lietuvos \n",
      "Respublikos švietimo, mokslo ir sporto ministro 2022 m. rugpjūčio 24 d. įsakymu Nr. V -1269 „Dėl \n",
      "Priešmokyklinio, pradinio, pagrindinio ir vidurinio ugdymo bendrųjų programų patvirtinimo“.  \n",
      " \n",
      "Ankstesnė (naudojama nuo 2023 -01-01) skaičiuoklė yra papildyta dar vienu lapu (Pasiruošim o koeficientai) . \n",
      "Paskirsčius mokytojams krūvį pagal ugdymo planą (Ugdymas ir mokymas), šiame naujame lape automatiškai  \n",
      "sužymimos klasės, kuriose mokytojui skirta valandų ir (pagal nutylėjimą) parenkamas koeficientas 1. Tose \n",
      "klasėse ( šiais mokslo metais  – nelygi nėse), kuriose pagal įsakymo priedo nuostatą (1 pastaba) turi būti \n",
      "didinamas (indeksuojamas) valandų, skiriamų ugdomajai veiklai planuoti, pasiruošti pamokoms, mokinių \n",
      "pasiekimams vertinti, skaičius, reikia parinkti koeficientą 1,2. Tai galima daryti tiek kiekv ienam mokytojui \n",
      "atskirai, tiek pasinaudoti Excel kopija vimo funkcija (pavyzdžiui, parinkus ir sužymėjus pirmojoje eilutėje \n",
      "reikiamas klases, pelės žymeklį v ilkti žemyn ). \n",
      "Pavyzdžiui , jeigu mokytojui šiai veiklai buvo skirta 500 valandų ir tai sudarė 60% nuo metinių kontaktinių \n",
      "valandų (pagal nutylėjimą – koeficientas 1), tai pritaikius koeficientą 1,2, skiriamų šiai veiklai val andų \n",
      "skaičius bus 72% nuo kontaktinių metinių valandų arba 600 valandų iš viso.  \n",
      " \n",
      "3. Mokytojams, kurie atlieka vadovavimo klasei  (grupei) funkciją ir koordinuoja socialinę -pilietinę \n",
      "veiklą , numatomas 20 procentų didesnis  nei šiame priede  nurodytas valandų, skiriamų vadovauti klasei \n",
      "(grupei), skaičius. Mokytojams, kurie neatlieka vadovavimo klasei (grupei) funkcijos, bet koordinuoja \n",
      "socialinę -pilietinę veiklą, numat oma 20 procentų  šiame priede  nurodytų valandų, skiriamų vadovauti \n",
      "klasei (grupei), skaičiaus.  \n",
      " \n",
      "Šiam pokyčiui realizuoti skaičiuoklėje jokie pakeitimai nedaryti. Tiesiog, priskiriant mokytojui vadovaujamų \n",
      "klasių skaičių, atitinkamai reikia įrašyti  1,2 (vi enos klasės atveju) ar atitinkamai daugiau , jeigu mokytojui \n",
      "vadovavimo funkcija priskirta daugiau nei vienoje tam tikro  dydžio klasėje.  \n",
      "Pavyzdžiui , mokytojui, kuris vadovauja vidutinio dydžio klasei ir koordinuoja socialinę  – pilietinę veiklą, \n",
      "pritaikius didinimo (indeksavimo) koeficientą 1,2, būtų skaičiuojama 216 metinių (nekontaktinių) valandų, o \n",
      "mokytojui, kuriam nėra priskirta vadovavimo fu nkcija,  bet didelėje klasėje jis yra atsakingas už socialinės – \n",
      "pilietinės veiklos koordinavim ą  atitinkama i įrašius 0,2, būtų skaičiuojama iš viso 42 metinės (nekontaktinės) \n",
      "valandos.  \n",
      " \n",
      " NACIONALINĖ  ŠVIETIMO  AGENTŪRA  \n",
      "K. Kalinausko  g. 7, 03107  Vilnius  \n",
      "https://www.nsa.smm.lt  Aidas Aldakauskas  \n",
      "Kokybės vertinimo departamento direktorius  \n",
      "Tel. +370  614 32685  \n",
      "El.p. Aidas.Aldakauskas@nsa.smm.lt  \n",
      " \n",
      "\n"
     ]
    }
   ],
   "source": [
    "import PyPDF2\n",
    "import pyttsx3\n",
    "\n",
    "file ='aktualus_pakeitimai.pdf'\n",
    "with open(file, 'rb') as path:\n",
    "    pdfReader = PyPDF2.PdfReader(path)\n",
    "\n",
    "    speak = pyttsx3.init()\n",
    "    for page_num in range(len(pdfReader.pages)):\n",
    "        page = pdfReader.pages[page_num]\n",
    "        text = page.extract_text()\n",
    "        if text:\n",
    "            print(f\"\\nReading page {page_num+1}:\\n\")\n",
    "            print(text)\n",
    "            speak.say(text)\n",
    "            speak.runAndWait()\n",
    "    speak.stop()"
   ]
  }
 ],
 "metadata": {
  "kernelspec": {
   "display_name": "Python 3",
   "language": "python",
   "name": "python3"
  },
  "language_info": {
   "codemirror_mode": {
    "name": "ipython",
    "version": 3
   },
   "file_extension": ".py",
   "mimetype": "text/x-python",
   "name": "python",
   "nbconvert_exporter": "python",
   "pygments_lexer": "ipython3",
   "version": "3.12.2"
  }
 },
 "nbformat": 4,
 "nbformat_minor": 2
}
